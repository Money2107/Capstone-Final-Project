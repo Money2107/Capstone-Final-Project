{
 "cells": [
  {
   "cell_type": "markdown",
   "id": "4959a1eb",
   "metadata": {},
   "source": [
    "# Naïve Bayes: Capstone Project Report\n",
    "\n",
    "**Student Name:** Zafir Shaikh  \n",
    "**Course:** Machine Learning AI  \n",
    "**Institution:** Humber IGS  \n",
    "**Course Code:** BINF_5507  \n",
    "**Date:** July 21, 2025"
   ]
  },
  {
   "cell_type": "markdown",
   "id": "6a8eae46",
   "metadata": {},
   "source": [
    "## 1. Introduction\n",
    "\n",
    "Naïve Bayes is a family of simple yet powerful probabilistic classifiers based on applying Bayes’ Theorem with the “naïve” assumption of feature independence. It is widely used in text classification tasks such as spam filtering, sentiment analysis, and document categorization due to its speed, simplicity, and surprisingly strong performance.\n",
    "\n",
    "Despite its simplicity, Naïve Bayes often performs competitively with more complex algorithms, especially when the assumption of independence holds approximately true. It is especially effective when dealing with large feature spaces and small datasets."
   ]
  },
  {
   "cell_type": "markdown",
   "id": "2513c1da",
   "metadata": {},
   "source": [
    "## 2. How It Works\n",
    "\n",
    "Naïve Bayes applies **Bayes’ Theorem** as follows:\n",
    "\n",
    "$$\n",
    "P(C|X) = \\frac{P(X|C) \\cdot P(C)}{P(X)}\n",
    "$$\n",
    "\n",
    "Where:\n",
    "- $P(C|X)$: Posterior probability of class $C$ given predictor $X$  \n",
    "- $P(X|C)$: Likelihood of predictor $X$ given class $C$  \n",
    "- $P(C)$: Prior probability of class $C$  \n",
    "- $P(X)$: Prior probability of predictor $X$"
   ]
  },
  {
   "cell_type": "code",
   "execution_count": null,
   "id": "5ee58cf7",
   "metadata": {},
   "outputs": [],
   "source": [
    "# Example: Applying Naive Bayes on sample data\n",
    "from sklearn.datasets import load_iris\n",
    "from sklearn.model_selection import train_test_split\n",
    "from sklearn.naive_bayes import GaussianNB\n",
    "from sklearn.metrics import accuracy_score\n",
    "\n",
    "# Load data\n",
    "X, y = load_iris(return_X_y=True)\n",
    "X_train, X_test, y_train, y_test = train_test_split(X, y, test_size=0.3, random_state=42)\n",
    "\n",
    "# Train Naive Bayes model\n",
    "model = GaussianNB()\n",
    "model.fit(X_train, y_train)\n",
    "y_pred = model.predict(X_test)\n",
    "\n",
    "# Evaluate accuracy\n",
    "accuracy = accuracy_score(y_test, y_pred)\n",
    "print(f\"Accuracy: {accuracy:.2f}\")"
   ]
  }
 ],
 "metadata": {},
 "nbformat": 4,
 "nbformat_minor": 5
}
